{
 "cells": [
  {
   "cell_type": "markdown",
   "metadata": {},
   "source": [
    "What is Big O Time Complexity?\n",
    "\n",
    "- A way of analyzing the run time of our algorithm as it grows."
   ]
  },
  {
   "cell_type": "markdown",
   "metadata": {},
   "source": [
    "Big O(1) Time Complexity:\n",
    "\n",
    "- Flat line because the time of the algorithm doesn't change no matter how big the input size is.\n",
    "- Most efficient Algorithms"
   ]
  },
  {
   "cell_type": "code",
   "execution_count": null,
   "metadata": {},
   "outputs": [],
   "source": [
    "# Array\n",
    "nums = [1,2,3]\n",
    "nums.append(4)      #It's a constant time operation to add to the end\n",
    "nums.pop()          #It's a constant time operation to remove from the end\n",
    "nums[0]             #It's a constant time to serach an arbitrary index. \n",
    "nums[1]\n",
    "nums[2]\n",
    "\n",
    "# Hashmap / Hashset\n",
    "hashMap = {}\n",
    "hashMap['key'] = 10         #To insert a value into a hashmap is constant time.\n",
    "print(\"key\" in hashMap)     #To lookup\n",
    "print(hashMap['key'])       #To lookup\n",
    "hashMap.pop('key')          "
   ]
  },
  {
   "cell_type": "markdown",
   "metadata": {},
   "source": [
    "![GRAPH](o(1).png)"
   ]
  },
  {
   "cell_type": "markdown",
   "metadata": {},
   "source": [
    "Big O(n) Time Complexity:\n",
    "\n",
    "- Linear growth scenario\n",
    "- As our input size grow, the time will grow proportionally.\n",
    "\n",
    "- When we talk about Big O(n), we talk about the worse case possible.\n"
   ]
  },
  {
   "cell_type": "code",
   "execution_count": null,
   "metadata": {},
   "outputs": [],
   "source": [
    "nums = [1,2,3]\n",
    "sum(nums)       # The sum function is a linear time algorithm, because we have to go through every single number in the array.\n",
    "\n",
    "# With just 3 values, it would be fast, but if the array had 1 Mil values, it would take a while.\n",
    "\n",
    "for n in nums:          # Looping is a linear time algorithm.\n",
    "    print(n)\n",
    "    \n",
    "nums.insert(1,100)      # Inserting in the middle of an array.\n",
    "nums.remove(100)        # Removing in the middle of an array.\n",
    "\n",
    "# Worse case would be inserting in the front, and we have to shift everything over.\n",
    "# Worse case would be removing in the front, and we have to shift everything other value over.\n",
    "\n",
    "\n",
    "print(100 in nums)      # Searching an array. \n",
    "\n",
    "# Worse case for the seraching, would be looking at every element in the array to find the value.\n",
    "\n",
    "import heapq\n",
    "heapq.heapify(nums)     # Build heap. "
   ]
  },
  {
   "cell_type": "markdown",
   "metadata": {},
   "source": [
    "Big O(n^2) Time Complexity:\n",
    "\n",
    "- The time complexity of the apgorithm grows quadratically with the input size."
   ]
  },
  {
   "cell_type": "code",
   "execution_count": null,
   "metadata": {},
   "outputs": [],
   "source": [
    "# Traverse a square grid\n",
    "nums = [[1,2,3], [4,5,6], [7,8,9]]\n",
    "for i in range(len(nums)):\n",
    "    for j in range(len(nums[i])):\n",
    "        print(nums[i][j])\n",
    "        \n",
    "# Get every pair of elements in array \n",
    "nums = [1,2,3]\n",
    "for i in range(len(nums)):\n",
    "    for j in range(i + 1, len(nums)):\n",
    "        print(nums[i], nums[j])\n"
   ]
  },
  {
   "cell_type": "markdown",
   "metadata": {},
   "source": [
    "3x3 or n x n\n",
    "  n\n",
    "[][][]\n",
    "[][][] n\n",
    "[][][]\n",
    "\n",
    "- Go through every row in the grid, and for every row, go through every position.\n",
    "- The outer loop is going through every single row, and inner loop is going through every position.\n",
    "\n",
    "- its more common to iterate through the array and each time you remove the first position. Do it until the last element: \n",
    "[][][][]\n",
    "  [][][]\n",
    "    [][]  \n",
    "      []\n"
   ]
  },
  {
   "cell_type": "markdown",
   "metadata": {},
   "source": [
    "O(n*m) Time Complexity:\n",
    "\n",
    "- Similar to O(n^2)\n"
   ]
  },
  {
   "cell_type": "code",
   "execution_count": null,
   "metadata": {},
   "outputs": [],
   "source": [
    "# Get every pair of elements from two arrays\n",
    "nums1, nums2 = [1,2,3], [4,5]\n",
    "for i in range(len(nums1)):\n",
    "    for j in range(len(nums2)):\n",
    "        print(nums1[i], nums2[j])\n",
    "        \n",
    "# Traverse rectangle grid\n",
    "nums = [[1,2,3], [4,5,6]]\n",
    "for i in range(len(nums)):\n",
    "    for j in range(len(nums[i])):\n",
    "        print(nums[i][j])        \n",
    "O(n^3)\n",
    "\n"
   ]
  }
 ],
 "metadata": {
  "kernelspec": {
   "display_name": "Python 3",
   "language": "python",
   "name": "python3"
  },
  "language_info": {
   "codemirror_mode": {
    "name": "ipython",
    "version": 3
   },
   "file_extension": ".py",
   "mimetype": "text/x-python",
   "name": "python",
   "nbconvert_exporter": "python",
   "pygments_lexer": "ipython3",
   "version": "3.11.8"
  }
 },
 "nbformat": 4,
 "nbformat_minor": 2
}
