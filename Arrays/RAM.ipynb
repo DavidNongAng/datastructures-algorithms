{
 "cells": [
  {
   "cell_type": "markdown",
   "metadata": {},
   "source": [
    "What is a Data Structure?\n",
    "\n",
    "Data Structures - ways to store data in an efficient manner inside RAM.\n",
    "\n",
    "RAM (Random Access Memory) - where all of our variables are stored.\n",
    "    - Measured in bytes. 8GB, 16GB, 32GB...\n",
    "    - Byte = 8 bits"
   ]
  },
  {
   "cell_type": "code",
   "execution_count": null,
   "metadata": {},
   "outputs": [],
   "source": [
    "Testing"
   ]
  },
  {
   "cell_type": "markdown",
   "metadata": {},
   "source": [
    "Array of Integers\n",
    "1, 3, 5\n",
    "\n",
    "RAM\n",
    "Value:      1,  3,  5\n",
    "Address:    0,  4,  8\n",
    "\n",
    "- Each integer takes 32 Bits of space = 4 Bytes, thats why the address is 4 bytes apart.\n",
    "\n",
    "\n",
    "Array of Characters\n",
    "a, b, c\n",
    "\n",
    "RAM\n",
    "Value:      a,  b,  c\n",
    "Address:    0,  1,  2\n",
    "\n",
    "- Each character takes 8 Bites of space = 1 Byte, thats why the address is 1 byte apart."
   ]
  }
 ],
 "metadata": {
  "language_info": {
   "name": "python"
  }
 },
 "nbformat": 4,
 "nbformat_minor": 2
}
